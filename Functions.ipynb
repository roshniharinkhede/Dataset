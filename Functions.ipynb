{
  "nbformat": 4,
  "nbformat_minor": 0,
  "metadata": {
    "colab": {
      "name": "Functions.ipynb",
      "provenance": [],
      "collapsed_sections": [],
      "authorship_tag": "ABX9TyOKC5L3dCvMi/IfC9jEmjY4",
      "include_colab_link": true
    },
    "kernelspec": {
      "name": "python3",
      "display_name": "Python 3"
    },
    "language_info": {
      "name": "python"
    }
  },
  "cells": [
    {
      "cell_type": "markdown",
      "metadata": {
        "id": "view-in-github",
        "colab_type": "text"
      },
      "source": [
        "<a href=\"https://colab.research.google.com/github/roshniharinkhede/Dataset/blob/main/Functions.ipynb\" target=\"_parent\"><img src=\"https://colab.research.google.com/assets/colab-badge.svg\" alt=\"Open In Colab\"/></a>"
      ]
    },
    {
      "cell_type": "code",
      "execution_count": 40,
      "metadata": {
        "colab": {
          "base_uri": "https://localhost:8080/"
        },
        "id": "BcxwMUFme79K",
        "outputId": "6e0cc01b-7760-4b4c-90a1-1781c3e9e25d"
      },
      "outputs": [
        {
          "output_type": "stream",
          "name": "stdout",
          "text": [
            "the number is even\n"
          ]
        }
      ],
      "source": [
        "num = 24\n",
        "if num%2==0:\n",
        "  print(\"the number is even\")\n",
        "else:\n",
        "    (\"the number is odd\")"
      ]
    },
    {
      "cell_type": "code",
      "source": [
        "def even_odd(num):\n",
        "    if num%2==0:\n",
        "      print(\"the number is even\")\n",
        "    else:\n",
        "            (\"the number is odd\")"
      ],
      "metadata": {
        "id": "DrA2nWLwlJlO"
      },
      "execution_count": 41,
      "outputs": []
    },
    {
      "cell_type": "code",
      "source": [
        "even_odd(24)"
      ],
      "metadata": {
        "colab": {
          "base_uri": "https://localhost:8080/"
        },
        "id": "2yZe-xI5l11B",
        "outputId": "60178455-d33e-46ca-fa14-0f75276ddbdd"
      },
      "execution_count": 42,
      "outputs": [
        {
          "output_type": "stream",
          "name": "stdout",
          "text": [
            "the number is even\n"
          ]
        }
      ]
    },
    {
      "cell_type": "code",
      "source": [
        "# print vs return\n",
        "def hello_world():\n",
        "    print(\"hello welcome\")\n"
      ],
      "metadata": {
        "id": "NfMHJY9Xmk45"
      },
      "execution_count": 43,
      "outputs": []
    },
    {
      "cell_type": "code",
      "source": [
        "hello_world()"
      ],
      "metadata": {
        "colab": {
          "base_uri": "https://localhost:8080/"
        },
        "id": "XzDa2uUknI4M",
        "outputId": "86174bc4-d5c8-4730-dbee-3c35c1356456"
      },
      "execution_count": 44,
      "outputs": [
        {
          "output_type": "stream",
          "name": "stdout",
          "text": [
            "hello welcome\n"
          ]
        }
      ]
    },
    {
      "cell_type": "code",
      "source": [
        "val = hello_world()\n",
        "print('val')"
      ],
      "metadata": {
        "colab": {
          "base_uri": "https://localhost:8080/"
        },
        "id": "l6ojo-F4nOxt",
        "outputId": "21ec5e43-3f18-4291-86ef-5fd11c88099b"
      },
      "execution_count": 45,
      "outputs": [
        {
          "output_type": "stream",
          "name": "stdout",
          "text": [
            "hello welcome\n",
            "val\n"
          ]
        }
      ]
    },
    {
      "cell_type": "code",
      "source": [
        "def add_number(num1,num2):\n",
        "    return(num1+num2)"
      ],
      "metadata": {
        "id": "MhbNT8ldn0sM"
      },
      "execution_count": 46,
      "outputs": []
    },
    {
      "cell_type": "code",
      "source": [
        "val=add_number(24,22)"
      ],
      "metadata": {
        "id": "7wXJE0U_oSUn"
      },
      "execution_count": 47,
      "outputs": []
    },
    {
      "cell_type": "code",
      "source": [
        "val"
      ],
      "metadata": {
        "colab": {
          "base_uri": "https://localhost:8080/"
        },
        "id": "ON2JPqHioijt",
        "outputId": "1ad9d2f3-bc0f-4cce-e49f-dcf25bf2fc1c"
      },
      "execution_count": 48,
      "outputs": [
        {
          "output_type": "execute_result",
          "data": {
            "text/plain": [
              "46"
            ]
          },
          "metadata": {},
          "execution_count": 48
        }
      ]
    },
    {
      "cell_type": "code",
      "source": [
        "# posisinal argument and keyword argument\n",
        "def hello(name,age=24):\n",
        "  print(\"my name is {} and my age is {}\".format(name,age))\n",
        "    \n",
        "    "
      ],
      "metadata": {
        "id": "0lWExSJhpD3F"
      },
      "execution_count": 49,
      "outputs": []
    },
    {
      "cell_type": "code",
      "source": [
        "hello('roshni')"
      ],
      "metadata": {
        "colab": {
          "base_uri": "https://localhost:8080/"
        },
        "id": "TJf5b5f1taCp",
        "outputId": "e53bc91f-4dd7-470b-c92a-c4bd0f8534c9"
      },
      "execution_count": 50,
      "outputs": [
        {
          "output_type": "stream",
          "name": "stdout",
          "text": [
            "my name is roshni and my age is 24\n"
          ]
        }
      ]
    },
    {
      "cell_type": "markdown",
      "source": [
        "Lamda function(Anonymous)"
      ],
      "metadata": {
        "id": "VdFomLMDvKgj"
      }
    },
    {
      "cell_type": "code",
      "source": [
        "def addition(a,b):\n",
        "  return a+b\n",
        "  "
      ],
      "metadata": {
        "id": "28rDpKsOvfus"
      },
      "execution_count": 51,
      "outputs": []
    },
    {
      "cell_type": "code",
      "source": [
        "addition(4,6)"
      ],
      "metadata": {
        "colab": {
          "base_uri": "https://localhost:8080/"
        },
        "id": "naoXWT9mvzhn",
        "outputId": "034ef3e0-0c5a-4308-e6e4-fb99bfb327be"
      },
      "execution_count": 52,
      "outputs": [
        {
          "output_type": "execute_result",
          "data": {
            "text/plain": [
              "10"
            ]
          },
          "metadata": {},
          "execution_count": 52
        }
      ]
    },
    {
      "cell_type": "code",
      "source": [
        "addition = lambda a,b:a+b"
      ],
      "metadata": {
        "id": "bYq2e7u2v59k"
      },
      "execution_count": 53,
      "outputs": []
    },
    {
      "cell_type": "code",
      "source": [
        "addition(9,5)"
      ],
      "metadata": {
        "colab": {
          "base_uri": "https://localhost:8080/"
        },
        "id": "tKNKI510wHXF",
        "outputId": "ed3d95ce-bfd1-494d-bb5a-084f7b688073"
      },
      "execution_count": 54,
      "outputs": [
        {
          "output_type": "execute_result",
          "data": {
            "text/plain": [
              "14"
            ]
          },
          "metadata": {},
          "execution_count": 54
        }
      ]
    },
    {
      "cell_type": "code",
      "source": [
        "def even(num):\n",
        "  if num%2==0:\n",
        "    return True"
      ],
      "metadata": {
        "id": "33dre_9YwsGq"
      },
      "execution_count": 55,
      "outputs": []
    },
    {
      "cell_type": "code",
      "source": [
        "even(12)"
      ],
      "metadata": {
        "colab": {
          "base_uri": "https://localhost:8080/"
        },
        "id": "GKAgB72qw7o2",
        "outputId": "ba27c956-9923-41ee-cd2e-eb83d6b2d1c5"
      },
      "execution_count": 56,
      "outputs": [
        {
          "output_type": "execute_result",
          "data": {
            "text/plain": [
              "True"
            ]
          },
          "metadata": {},
          "execution_count": 56
        }
      ]
    },
    {
      "cell_type": "code",
      "source": [
        "even = lambda a:a%2==0"
      ],
      "metadata": {
        "id": "JloZstK6xL3O"
      },
      "execution_count": 57,
      "outputs": []
    },
    {
      "cell_type": "code",
      "source": [
        "even(14)"
      ],
      "metadata": {
        "colab": {
          "base_uri": "https://localhost:8080/"
        },
        "id": "TICKhNhVxd4B",
        "outputId": "adee762d-b5bd-4f57-fe58-af67e51c0b55"
      },
      "execution_count": 58,
      "outputs": [
        {
          "output_type": "execute_result",
          "data": {
            "text/plain": [
              "True"
            ]
          },
          "metadata": {},
          "execution_count": 58
        }
      ]
    },
    {
      "cell_type": "code",
      "source": [
        "def addition(x,y,z):\n",
        "  return x+y+z"
      ],
      "metadata": {
        "id": "HSMRxI6Ex0Bc"
      },
      "execution_count": 59,
      "outputs": []
    },
    {
      "cell_type": "code",
      "source": [
        "addition(2,3,4)"
      ],
      "metadata": {
        "colab": {
          "base_uri": "https://localhost:8080/"
        },
        "id": "Jp1sQokVyDfe",
        "outputId": "12677fcc-7eaa-4a52-e857-194fc776d060"
      },
      "execution_count": 60,
      "outputs": [
        {
          "output_type": "execute_result",
          "data": {
            "text/plain": [
              "9"
            ]
          },
          "metadata": {},
          "execution_count": 60
        }
      ]
    },
    {
      "cell_type": "code",
      "source": [
        "addition = lambda x,y,z:x+y+z\n"
      ],
      "metadata": {
        "id": "L1YlHiSzyJl9"
      },
      "execution_count": 61,
      "outputs": []
    },
    {
      "cell_type": "code",
      "source": [
        "addition(2,3,4)"
      ],
      "metadata": {
        "colab": {
          "base_uri": "https://localhost:8080/"
        },
        "id": "Sof3Ng-iyguU",
        "outputId": "20b6fbea-ef7f-40bf-9da2-9466b4c32ceb"
      },
      "execution_count": 62,
      "outputs": [
        {
          "output_type": "execute_result",
          "data": {
            "text/plain": [
              "9"
            ]
          },
          "metadata": {},
          "execution_count": 62
        }
      ]
    },
    {
      "cell_type": "markdown",
      "source": [
        "Map function"
      ],
      "metadata": {
        "id": "Dk0F1BxHz4Ca"
      }
    },
    {
      "cell_type": "code",
      "source": [
        "def even_or_odd(num):\n",
        "   if num%2==0:\n",
        "      return \"the number is {} even\".format(num)\n",
        "   else:\n",
        "     return  \"the number is {} odd\".format(num)\n",
        "      "
      ],
      "metadata": {
        "id": "IqnEfo4xz9OJ"
      },
      "execution_count": 63,
      "outputs": []
    },
    {
      "cell_type": "code",
      "source": [
        "even_or_odd(24)"
      ],
      "metadata": {
        "colab": {
          "base_uri": "https://localhost:8080/",
          "height": 35
        },
        "id": "kF5aR_fsM-Z1",
        "outputId": "dee03c26-535a-4b2c-d0c5-bebebf32e54e"
      },
      "execution_count": 64,
      "outputs": [
        {
          "output_type": "execute_result",
          "data": {
            "application/vnd.google.colaboratory.intrinsic+json": {
              "type": "string"
            },
            "text/plain": [
              "'the number is 24 even'"
            ]
          },
          "metadata": {},
          "execution_count": 64
        }
      ]
    },
    {
      "cell_type": "code",
      "source": [
        "lst = [1,2,4,6,7,8,45,46,23,]"
      ],
      "metadata": {
        "id": "VMLVpJAaNFiM"
      },
      "execution_count": 65,
      "outputs": []
    },
    {
      "cell_type": "code",
      "source": [
        "map(even_or_odd,lst)"
      ],
      "metadata": {
        "colab": {
          "base_uri": "https://localhost:8080/"
        },
        "id": "ytxyDYhYNV_J",
        "outputId": "15a577d2-dea6-47fd-c277-4d081deca680"
      },
      "execution_count": 66,
      "outputs": [
        {
          "output_type": "execute_result",
          "data": {
            "text/plain": [
              "<map at 0x7f296d288310>"
            ]
          },
          "metadata": {},
          "execution_count": 66
        }
      ]
    },
    {
      "cell_type": "code",
      "source": [
        "list(map(even_or_odd,lst))"
      ],
      "metadata": {
        "colab": {
          "base_uri": "https://localhost:8080/"
        },
        "id": "RaLzjY1ZNjlY",
        "outputId": "f9e36a2d-1a8b-4e7d-bd0a-6db2f9393590"
      },
      "execution_count": 67,
      "outputs": [
        {
          "output_type": "execute_result",
          "data": {
            "text/plain": [
              "['the number is 1 odd',\n",
              " 'the number is 2 even',\n",
              " 'the number is 4 even',\n",
              " 'the number is 6 even',\n",
              " 'the number is 7 odd',\n",
              " 'the number is 8 even',\n",
              " 'the number is 45 odd',\n",
              " 'the number is 46 even',\n",
              " 'the number is 23 odd']"
            ]
          },
          "metadata": {},
          "execution_count": 67
        }
      ]
    },
    {
      "cell_type": "markdown",
      "source": [
        "Filter function"
      ],
      "metadata": {
        "id": "fOh7YFmvPlNZ"
      }
    },
    {
      "cell_type": "code",
      "source": [
        "def even(num):\n",
        "  if num%2==0:\n",
        "    return True"
      ],
      "metadata": {
        "id": "ccq2506TPrsL"
      },
      "execution_count": 68,
      "outputs": []
    },
    {
      "cell_type": "code",
      "source": [
        "lst = [1,2,3,4,5,6,7,8,9]"
      ],
      "metadata": {
        "id": "gMUFPiUNQGRH"
      },
      "execution_count": 69,
      "outputs": []
    },
    {
      "cell_type": "code",
      "source": [
        "filter(even,lst)"
      ],
      "metadata": {
        "colab": {
          "base_uri": "https://localhost:8080/"
        },
        "id": "4g2Y2wqJQSSj",
        "outputId": "7344bf2b-94ab-4d1e-d539-4fce3437227b"
      },
      "execution_count": 70,
      "outputs": [
        {
          "output_type": "execute_result",
          "data": {
            "text/plain": [
              "<filter at 0x7f296d288410>"
            ]
          },
          "metadata": {},
          "execution_count": 70
        }
      ]
    },
    {
      "cell_type": "code",
      "source": [
        "list(filter(even,lst))"
      ],
      "metadata": {
        "colab": {
          "base_uri": "https://localhost:8080/"
        },
        "id": "b9q2dNpCQao1",
        "outputId": "9c18badf-1407-4c4a-8c0e-b4a4d769edd0"
      },
      "execution_count": 71,
      "outputs": [
        {
          "output_type": "execute_result",
          "data": {
            "text/plain": [
              "[2, 4, 6, 8]"
            ]
          },
          "metadata": {},
          "execution_count": 71
        }
      ]
    },
    {
      "cell_type": "code",
      "source": [
        "list(filter(lambda num:num%2==0,lst))"
      ],
      "metadata": {
        "colab": {
          "base_uri": "https://localhost:8080/"
        },
        "id": "nC6ZB-qiQpo0",
        "outputId": "c87189e6-baea-4638-a5ae-98c5c31f777b"
      },
      "execution_count": 73,
      "outputs": [
        {
          "output_type": "execute_result",
          "data": {
            "text/plain": [
              "[2, 4, 6, 8]"
            ]
          },
          "metadata": {},
          "execution_count": 73
        }
      ]
    },
    {
      "cell_type": "code",
      "source": [
        "list(map(lambda num:num%2==0,lst))"
      ],
      "metadata": {
        "colab": {
          "base_uri": "https://localhost:8080/"
        },
        "id": "ckTmHGJqRKZC",
        "outputId": "f88e2255-3ecc-4314-a24c-cc9764cd1903"
      },
      "execution_count": 75,
      "outputs": [
        {
          "output_type": "execute_result",
          "data": {
            "text/plain": [
              "[False, True, False, True, False, True, False, True, False]"
            ]
          },
          "metadata": {},
          "execution_count": 75
        }
      ]
    },
    {
      "cell_type": "code",
      "source": [
        ""
      ],
      "metadata": {
        "id": "NdLBz13jTk4B"
      },
      "execution_count": null,
      "outputs": []
    }
  ]
}