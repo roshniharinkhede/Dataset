{
  "nbformat": 4,
  "nbformat_minor": 0,
  "metadata": {
    "colab": {
      "name": "imp_python_code.ipynb",
      "provenance": [],
      "collapsed_sections": [],
      "authorship_tag": "ABX9TyMYtBGzPF7WOqlnVEhyyyMS",
      "include_colab_link": true
    },
    "kernelspec": {
      "name": "python3",
      "display_name": "Python 3"
    },
    "language_info": {
      "name": "python"
    }
  },
  "cells": [
    {
      "cell_type": "markdown",
      "metadata": {
        "id": "view-in-github",
        "colab_type": "text"
      },
      "source": [
        "<a href=\"https://colab.research.google.com/github/roshniharinkhede/Dataset/blob/main/imp_python_code.ipynb\" target=\"_parent\"><img src=\"https://colab.research.google.com/assets/colab-badge.svg\" alt=\"Open In Colab\"/></a>"
      ]
    },
    {
      "cell_type": "markdown",
      "source": [
        "List comprehension"
      ],
      "metadata": {
        "id": "morFv2KjN5KA"
      }
    },
    {
      "cell_type": "code",
      "source": [
        "lst1 = []\n",
        "def lst_square(lst):\n",
        "  for i in lst:\n",
        "      lst1.append(i*i)\n",
        "  return lst1"
      ],
      "metadata": {
        "id": "yQppHcXZOEMF"
      },
      "execution_count": null,
      "outputs": []
    },
    {
      "cell_type": "code",
      "source": [
        "lst_square([1,2,3,4,5,6])"
      ],
      "metadata": {
        "colab": {
          "base_uri": "https://localhost:8080/"
        },
        "id": "JUf-HouPPldX",
        "outputId": "6ca5929b-c9c2-4366-827f-e2cfdb64187e"
      },
      "execution_count": null,
      "outputs": [
        {
          "output_type": "execute_result",
          "data": {
            "text/plain": [
              "[1, 4, 9, 16, 25, 36]"
            ]
          },
          "metadata": {},
          "execution_count": 10
        }
      ]
    },
    {
      "cell_type": "markdown",
      "source": [
        "list comprehension "
      ],
      "metadata": {
        "id": "1jWXRgxXUu8c"
      }
    },
    {
      "cell_type": "code",
      "source": [
        "lst = [1,2,3,4,5,6]"
      ],
      "metadata": {
        "id": "0Tvu1Du-VF__"
      },
      "execution_count": null,
      "outputs": []
    },
    {
      "cell_type": "code",
      "source": [
        "[i*i for i in lst]"
      ],
      "metadata": {
        "colab": {
          "base_uri": "https://localhost:8080/"
        },
        "id": "YiUSQpKyU45G",
        "outputId": "425f8611-b98d-4694-ac37-a39aeb14ae82"
      },
      "execution_count": null,
      "outputs": [
        {
          "output_type": "execute_result",
          "data": {
            "text/plain": [
              "[1, 4, 9, 16, 25, 36]"
            ]
          },
          "metadata": {},
          "execution_count": 12
        }
      ]
    },
    {
      "cell_type": "code",
      "source": [
        "lst1 = [i*i for i in lst if i%2==0]"
      ],
      "metadata": {
        "id": "s4-8XlheVkws"
      },
      "execution_count": null,
      "outputs": []
    },
    {
      "cell_type": "code",
      "source": [
        "lst1"
      ],
      "metadata": {
        "colab": {
          "base_uri": "https://localhost:8080/"
        },
        "id": "K1Bnl9GqV3H_",
        "outputId": "12eacd70-6b6e-44e2-a2c6-d7af924a9c1a"
      },
      "execution_count": null,
      "outputs": [
        {
          "output_type": "execute_result",
          "data": {
            "text/plain": [
              "[4, 16, 36]"
            ]
          },
          "metadata": {},
          "execution_count": 14
        }
      ]
    },
    {
      "cell_type": "code",
      "source": [
        "lst1 = [i*i for i in lst if i%2!=0]"
      ],
      "metadata": {
        "id": "0QDhufdrXMHE"
      },
      "execution_count": null,
      "outputs": []
    },
    {
      "cell_type": "code",
      "source": [
        "lst1"
      ],
      "metadata": {
        "colab": {
          "base_uri": "https://localhost:8080/"
        },
        "id": "i9-eWDzCXT0s",
        "outputId": "a4dc4632-e5e5-4928-ab2a-63cd4933b7ab"
      },
      "execution_count": null,
      "outputs": [
        {
          "output_type": "execute_result",
          "data": {
            "text/plain": [
              "[1, 9, 25]"
            ]
          },
          "metadata": {},
          "execution_count": 16
        }
      ]
    },
    {
      "cell_type": "markdown",
      "source": [
        "string formatting"
      ],
      "metadata": {
        "id": "3sbUbxmKXleD"
      }
    },
    {
      "cell_type": "code",
      "source": [
        "print(\"hello Roshni\")"
      ],
      "metadata": {
        "colab": {
          "base_uri": "https://localhost:8080/"
        },
        "id": "H2BPuLMxXsaO",
        "outputId": "6e1de89f-292e-4c5f-d413-d4eea21849bf"
      },
      "execution_count": null,
      "outputs": [
        {
          "output_type": "stream",
          "name": "stdout",
          "text": [
            "hello Roshni\n"
          ]
        }
      ]
    },
    {
      "cell_type": "code",
      "source": [
        "def greeting(name):\n",
        "  return \"hello {} welcome to the community\".format(name)"
      ],
      "metadata": {
        "id": "ONz_gXDfYySc"
      },
      "execution_count": null,
      "outputs": []
    },
    {
      "cell_type": "code",
      "source": [
        "greeting(\"Roshni\")"
      ],
      "metadata": {
        "colab": {
          "base_uri": "https://localhost:8080/",
          "height": 35
        },
        "id": "dG2vKlqlZZJq",
        "outputId": "1f093f00-079f-4367-9688-6b1235969e67"
      },
      "execution_count": null,
      "outputs": [
        {
          "output_type": "execute_result",
          "data": {
            "application/vnd.google.colaboratory.intrinsic+json": {
              "type": "string"
            },
            "text/plain": [
              "'hello Roshni welcome to the community'"
            ]
          },
          "metadata": {},
          "execution_count": 20
        }
      ]
    },
    {
      "cell_type": "code",
      "source": [
        "def Welcome(name,age):\n",
        "  return \"welcome {}.your age is {}\".format(name,age)"
      ],
      "metadata": {
        "id": "OidGnzZ6ZsOn"
      },
      "execution_count": null,
      "outputs": []
    },
    {
      "cell_type": "code",
      "source": [
        "Welcome(\"Roshni\",33)"
      ],
      "metadata": {
        "colab": {
          "base_uri": "https://localhost:8080/",
          "height": 35
        },
        "id": "w9xAJ-KHa5CX",
        "outputId": "697184cd-cf61-4eb3-aab6-17fa4ee173b5"
      },
      "execution_count": null,
      "outputs": [
        {
          "output_type": "execute_result",
          "data": {
            "application/vnd.google.colaboratory.intrinsic+json": {
              "type": "string"
            },
            "text/plain": [
              "'welcome Roshni.your age is 33'"
            ]
          },
          "metadata": {},
          "execution_count": 22
        }
      ]
    }
  ]
}